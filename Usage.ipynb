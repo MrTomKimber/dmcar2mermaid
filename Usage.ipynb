{
 "cells": [
  {
   "cell_type": "code",
   "execution_count": 1,
   "id": "a4df1ae4-e8f3-462f-86a7-bcac02994599",
   "metadata": {},
   "outputs": [],
   "source": [
    "import pyperclip as clip\n",
    "from IPython.display import Markdown as md\n",
    "from IPython.core.magic import register_cell_magic\n",
    "@register_cell_magic\n",
    "def markdown(line, cell):\n",
    "    return md(cell.format(**globals()))\n",
    "\n",
    "\n",
    "import mmutils\n",
    "import dmcar2mermaid"
   ]
  },
  {
   "cell_type": "code",
   "execution_count": 2,
   "id": "d10e04f3-c0f5-4120-8c14-73f8cbd9cdd6",
   "metadata": {},
   "outputs": [],
   "source": [
    "# Read DMCAR file and translate into mermaid ERD description\n",
    "diagram = dmcar2mermaid.mermaid_from_dmcar(\"northwinds_dm.xlsx\")"
   ]
  },
  {
   "cell_type": "code",
   "execution_count": 3,
   "id": "a3aff9b0-6431-4712-bc08-f37ea4b6979a",
   "metadata": {},
   "outputs": [],
   "source": [
    "%%capture captured\n",
    "print(diagram)"
   ]
  },
  {
   "cell_type": "code",
   "execution_count": 4,
   "id": "98a176d2-9b02-4d8d-9ea0-9203e03e8847",
   "metadata": {},
   "outputs": [],
   "source": [
    "# Capture contents of diagram to clipboard\n",
    "clip.copy(captured.stdout)"
   ]
  },
  {
   "cell_type": "code",
   "execution_count": 5,
   "id": "22440d09-1964-4edb-a827-8bb88756e8bb",
   "metadata": {},
   "outputs": [],
   "source": [
    "edit_url=\"https://mermaid.live/\""
   ]
  },
  {
   "cell_type": "code",
   "execution_count": 6,
   "id": "49581b58-d6bd-4a49-a154-08cf7eb40958",
   "metadata": {},
   "outputs": [
    {
     "data": {
      "text/markdown": [
       "\"Go to https://mermaid.live/ and paste contents of clipboard\"\n"
      ],
      "text/plain": [
       "<IPython.core.display.Markdown object>"
      ]
     },
     "execution_count": 6,
     "metadata": {},
     "output_type": "execute_result"
    }
   ],
   "source": [
    "%%markdown\n",
    "\"Go to {edit_url} and paste contents of clipboard\""
   ]
  },
  {
   "cell_type": "code",
   "execution_count": 7,
   "id": "d5e4674e-0308-4cd1-8030-d078a0a51dd2",
   "metadata": {},
   "outputs": [
    {
     "data": {
      "text/html": [
       "<img src=\"https://mermaid.ink/img/ZXJEaWFncmFtCiAJQ2F0ZWdvcmllc1siQ2F0ZWdvcmllcyJdIHsKICAgICAgICAJCUludGVnZXIgQ2F0ZWdvcnlJRCBQSyAKCQlUZXh0IENhdGVnb3J5TmFtZSAgCgkJVGV4dCBEZXNjcmlwdGlvbiAgCiAgICAgICAgCX0KCUN1c3RvbWVyc1siQ3VzdG9tZXJzIl0gewogICAgICAgIAkJSW50ZWdlciBDdXN0b21lcklEIFBLIAoJCVRleHQgQ3VzdG9tZXJOYW1lICAKCQlUZXh0IENvbnRhY3ROYW1lICAKCQlUZXh0IEFkZHJlc3MgIAoJCVRleHQgQ2l0eSAgCgkJVGV4dCBQb3N0YWxDb2RlICAKCQlUZXh0IENvdW50cnkgIAogICAgICAgIAl9CglFbXBsb3llZXNbIkVtcGxveWVlcyJdIHsKICAgICAgICAJCUludGVnZXIgRW1wbG95ZWVJRCBQSyAKCQlUZXh0IExhc3ROYW1lICAKCQlUZXh0IEZpcnN0TmFtZSAgCgkJRGF0ZSBCaXJ0aERhdGUgIAoJCVRleHQgUGhvdG8gIAoJCVRleHQgTm90ZXMgIAogICAgICAgIAl9CglPcmRlckRldGFpbHNbIk9yZGVyRGV0YWlscyJdIHsKICAgICAgICAJCUludGVnZXIgT3JkZXJEZXRhaWxJRCBQSyAKCQlJbnRlZ2VyIE9yZGVySUQgIAoJCUludGVnZXIgUHJvZHVjdElEICAKCQlJbnRlZ2VyIFF1YW50aXR5ICAKICAgICAgICAJfQoJT3JkZXJzWyJPcmRlcnMiXSB7CiAgICAgICAgCQlJbnRlZ2VyIE9yZGVySUQgUEsgCgkJSW50ZWdlciBDdXN0b21lcklEICAKCQlJbnRlZ2VyIEVtcGxveWVlSUQgIAoJCURhdGUgT3JkZXJEYXRlICAKCQlJbnRlZ2VyIFNoaXBwZXJJRCAgCiAgICAgICAgCX0KCVByb2R1Y3RzWyJQcm9kdWN0cyJdIHsKICAgICAgICAJCUludGVnZXIgUHJvZHVjdElEIFBLIAoJCVRleHQgUHJvZHVjdE5hbWUgIAoJCUludGVnZXIgU3VwcGxpZXJJRCAgCgkJSW50ZWdlciBDYXRlZ29yeUlEICAKCQlUZXh0IFVuaXQgIAoJCURlY2ltYWwgUHJpY2UgIAogICAgICAgIAl9CglTaGlwcGVyc1siU2hpcHBlcnMiXSB7CiAgICAgICAgCQlJbnRlZ2VyIFNoaXBwZXJJRCBQSyAKCQlUZXh0IFNoaXBwZXJOYW1lICAKCQlUZXh0IFBob25lICAKICAgICAgICAJfQoJU3VwcGxpZXJzWyJTdXBwbGllcnMiXSB7CiAgICAgICAgCQlJbnRlZ2VyIFN1cHBsaWVySUQgUEsgCgkJVGV4dCBTdXBwbGllck5hbWUgIAoJCVRleHQgQ29udGFjdE5hbWUgIAoJCVRleHQgQWRkcmVzcyAgCgkJVGV4dCBDaXR5ICAKCQlUZXh0IFBvc3RhbENvZGUgIAoJCVRleHQgQ291bnRyeSAgCgkJVGV4dCBQaG9uZSAgCiAgICAgICAgCX1Qcm9kdWN0cyB9by0tfHwgQ2F0ZWdvcmllcyA6ICJDYXRlZ29yeSIKT3JkZXJzIH18LS18fCBDdXN0b21lcnMgOiAiQ3VzdG9tZXIiCk9yZGVycyB9by0tfHwgRW1wbG95ZWVzIDogIkVtcGxveWVlIgpPcmRlckRldGFpbHMgfXwtLXx8IE9yZGVycyA6ICJPcmRlciIKT3JkZXJEZXRhaWxzIH18LS18fCBQcm9kdWN0cyA6ICJQcm9kdWN0IgpPcmRlcnMgfW8tLXx8IFNoaXBwZXJzIDogIlNoaXBwZXIiClByb2R1Y3RzIH18LS18fCBTdXBwbGllcnMgOiAiU3VwcGxpZXIi\"/>"
      ],
      "text/plain": [
       "<IPython.core.display.Image object>"
      ]
     },
     "metadata": {},
     "output_type": "display_data"
    }
   ],
   "source": [
    "# Display diagram in notebook\n",
    "mmutils.mm(diagram)"
   ]
  },
  {
   "cell_type": "code",
   "execution_count": 8,
   "id": "6d996dae-edfb-4158-9dd9-a7ed2e2cae1d",
   "metadata": {},
   "outputs": [
    {
     "name": "stdout",
     "output_type": "stream",
     "text": [
      "erDiagram\n",
      " \tCategories[\"Categories\"] {\n",
      "        \t\tInteger CategoryID PK \n",
      "\t\tText CategoryName  \n",
      "\t\tText Description  \n",
      "        \t}\n",
      "\tCustomers[\"Customers\"] {\n",
      "        \t\tInteger CustomerID PK \n",
      "\t\tText CustomerName  \n",
      "\t\tText ContactName  \n",
      "\t\tText Address  \n",
      "\t\tText City  \n",
      "\t\tText PostalCode  \n",
      "\t\tText Country  \n",
      "        \t}\n",
      "\tEmployees[\"Employees\"] {\n",
      "        \t\tInteger EmployeeID PK \n",
      "\t\tText LastName  \n",
      "\t\tText FirstName  \n",
      "\t\tDate BirthDate  \n",
      "\t\tText Photo  \n",
      "\t\tText Notes  \n",
      "        \t}\n",
      "\tOrderDetails[\"OrderDetails\"] {\n",
      "        \t\tInteger OrderDetailID PK \n",
      "\t\tInteger OrderID  \n",
      "\t\tInteger ProductID  \n",
      "\t\tInteger Quantity  \n",
      "        \t}\n",
      "\tOrders[\"Orders\"] {\n",
      "        \t\tInteger OrderID PK \n",
      "\t\tInteger CustomerID  \n",
      "\t\tInteger EmployeeID  \n",
      "\t\tDate OrderDate  \n",
      "\t\tInteger ShipperID  \n",
      "        \t}\n",
      "\tProducts[\"Products\"] {\n",
      "        \t\tInteger ProductID PK \n",
      "\t\tText ProductName  \n",
      "\t\tInteger SupplierID  \n",
      "\t\tInteger CategoryID  \n",
      "\t\tText Unit  \n",
      "\t\tDecimal Price  \n",
      "        \t}\n",
      "\tShippers[\"Shippers\"] {\n",
      "        \t\tInteger ShipperID PK \n",
      "\t\tText ShipperName  \n",
      "\t\tText Phone  \n",
      "        \t}\n",
      "\tSuppliers[\"Suppliers\"] {\n",
      "        \t\tInteger SupplierID PK \n",
      "\t\tText SupplierName  \n",
      "\t\tText ContactName  \n",
      "\t\tText Address  \n",
      "\t\tText City  \n",
      "\t\tText PostalCode  \n",
      "\t\tText Country  \n",
      "\t\tText Phone  \n",
      "        \t}Products }o--|| Categories : \"Category\"\n",
      "Orders }|--|| Customers : \"Customer\"\n",
      "Orders }o--|| Employees : \"Employee\"\n",
      "OrderDetails }|--|| Orders : \"Order\"\n",
      "OrderDetails }|--|| Products : \"Product\"\n",
      "Orders }o--|| Shippers : \"Shipper\"\n",
      "Products }|--|| Suppliers : \"Supplier\"\n"
     ]
    }
   ],
   "source": [
    "print(diagram)"
   ]
  },
  {
   "cell_type": "code",
   "execution_count": null,
   "id": "83aa0ac4-0cc8-402b-9e7c-6bffa20e61a3",
   "metadata": {},
   "outputs": [],
   "source": []
  }
 ],
 "metadata": {
  "kernelspec": {
   "display_name": "Python 3 (ipykernel)",
   "language": "python",
   "name": "python3"
  },
  "language_info": {
   "codemirror_mode": {
    "name": "ipython",
    "version": 3
   },
   "file_extension": ".py",
   "mimetype": "text/x-python",
   "name": "python",
   "nbconvert_exporter": "python",
   "pygments_lexer": "ipython3",
   "version": "3.10.12"
  }
 },
 "nbformat": 4,
 "nbformat_minor": 5
}
